{
  "nbformat": 4,
  "nbformat_minor": 0,
  "metadata": {
    "colab": {
      "name": "Logistic Regression",
      "provenance": [],
      "authorship_tag": "ABX9TyOtRO18LNncoN3gHpkSZLIk",
      "include_colab_link": true
    },
    "kernelspec": {
      "name": "python3",
      "display_name": "Python 3"
    }
  },
  "cells": [
    {
      "cell_type": "markdown",
      "metadata": {
        "id": "view-in-github",
        "colab_type": "text"
      },
      "source": [
        "<a href=\"https://colab.research.google.com/github/Shreya549/no-phishy/blob/master/Logistic_Regression.ipynb\" target=\"_parent\"><img src=\"https://colab.research.google.com/assets/colab-badge.svg\" alt=\"Open In Colab\"/></a>"
      ]
    },
    {
      "cell_type": "markdown",
      "metadata": {
        "id": "vJ4Idx6Wytg2"
      },
      "source": [
        "**Importing the libraries**"
      ]
    },
    {
      "cell_type": "code",
      "metadata": {
        "id": "jzJidlrftAk8"
      },
      "source": [
        "from sklearn.linear_model import LogisticRegression as lr\n",
        "from sklearn.metrics import accuracy_score"
      ],
      "execution_count": 1,
      "outputs": []
    },
    {
      "cell_type": "code",
      "metadata": {
        "id": "cRL57a94yqOz"
      },
      "source": [
        "import numpy as np\n",
        "import matplotlib.pyplot as plt\n",
        "import pandas as pd"
      ],
      "execution_count": 2,
      "outputs": []
    },
    {
      "cell_type": "markdown",
      "metadata": {
        "id": "T6vVonCezFvs"
      },
      "source": [
        "**Importing the dataset**"
      ]
    },
    {
      "cell_type": "code",
      "metadata": {
        "id": "SrRnJX68y0DC"
      },
      "source": [
        "dataset = pd.read_csv('https://raw.githubusercontent.com/Shreya549/no-phishy/master/final2.csv')\n",
        "X = dataset.iloc[:, :30].values\n",
        "y = dataset.iloc[:, 30].values"
      ],
      "execution_count": 3,
      "outputs": []
    },
    {
      "cell_type": "code",
      "metadata": {
        "id": "jofL2uklzmLc"
      },
      "source": [
        "from sklearn.model_selection import train_test_split\n",
        "training_inputs, testing_inputs, training_outputs,testing_outputs= train_test_split(X,\n",
        "y, test_size = 0.2, random_state = 0)"
      ],
      "execution_count": 4,
      "outputs": []
    },
    {
      "cell_type": "markdown",
      "metadata": {
        "id": "voNLuKdS0DNa"
      },
      "source": [
        "**Feature Scaling using Normalization**"
      ]
    },
    {
      "cell_type": "code",
      "metadata": {
        "id": "uoEcIraxz_ER"
      },
      "source": [
        "from sklearn.preprocessing import StandardScaler\n",
        "sc = StandardScaler()\n",
        "training_inputs = sc.fit_transform(training_inputs)\n",
        "testing_inputs = sc.transform(testing_inputs)"
      ],
      "execution_count": 5,
      "outputs": []
    },
    {
      "cell_type": "markdown",
      "metadata": {
        "id": "LaVcUEdrOK4Y"
      },
      "source": [
        "**Fitting the Classifier**"
      ]
    },
    {
      "cell_type": "code",
      "metadata": {
        "id": "iKHR8o9w-hK3",
        "outputId": "0d7f572b-344b-4f78-9235-fcb5296d2a32",
        "colab": {
          "base_uri": "https://localhost:8080/",
          "height": 104
        }
      },
      "source": [
        "classifier = lr(max_iter= 2000)\n",
        "classifier.fit(training_inputs, training_outputs)"
      ],
      "execution_count": 6,
      "outputs": [
        {
          "output_type": "execute_result",
          "data": {
            "text/plain": [
              "LogisticRegression(C=1.0, class_weight=None, dual=False, fit_intercept=True,\n",
              "                   intercept_scaling=1, l1_ratio=None, max_iter=2000,\n",
              "                   multi_class='auto', n_jobs=None, penalty='l2',\n",
              "                   random_state=None, solver='lbfgs', tol=0.0001, verbose=0,\n",
              "                   warm_start=False)"
            ]
          },
          "metadata": {
            "tags": []
          },
          "execution_count": 6
        }
      ]
    },
    {
      "cell_type": "markdown",
      "metadata": {
        "id": "uEKN3PerObsd"
      },
      "source": [
        "**Predicting Accuracy**"
      ]
    },
    {
      "cell_type": "code",
      "metadata": {
        "id": "C7vXetrHGt_W",
        "outputId": "26365428-02a3-4c19-d7e7-537d543bf3c7",
        "colab": {
          "base_uri": "https://localhost:8080/",
          "height": 35
        }
      },
      "source": [
        "predictions = classifier.predict(testing_inputs)\n",
        "accuracy = 100.0 * accuracy_score(testing_outputs, predictions)\n",
        "print(accuracy)"
      ],
      "execution_count": 7,
      "outputs": [
        {
          "output_type": "stream",
          "text": [
            "96.2623173632348\n"
          ],
          "name": "stdout"
        }
      ]
    },
    {
      "cell_type": "code",
      "metadata": {
        "id": "cuCF4L2sUCb5",
        "outputId": "5147eed1-c578-4b5c-f150-cddfabcca6d0",
        "colab": {
          "base_uri": "https://localhost:8080/",
          "height": 52
        }
      },
      "source": [
        "from sklearn.metrics import confusion_matrix\n",
        "cm = confusion_matrix(testing_outputs, predictions)\n",
        "cm"
      ],
      "execution_count": 8,
      "outputs": [
        {
          "output_type": "execute_result",
          "data": {
            "text/plain": [
              "array([[6767,  373],\n",
              "       [ 177, 7398]])"
            ]
          },
          "metadata": {
            "tags": []
          },
          "execution_count": 8
        }
      ]
    }
  ]
}