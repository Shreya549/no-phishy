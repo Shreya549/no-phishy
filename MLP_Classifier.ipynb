{
  "nbformat": 4,
  "nbformat_minor": 0,
  "metadata": {
    "colab": {
      "name": "MLP Classifier",
      "provenance": [],
      "authorship_tag": "ABX9TyMCVtJRZTvH57jIXtACq1jm"
    },
    "kernelspec": {
      "name": "python3",
      "display_name": "Python 3"
    }
  },
  "cells": [
    {
      "cell_type": "code",
      "metadata": {
        "id": "3qzk3OUUPDV9"
      },
      "source": [
        "import numpy\n",
        "import sklearn\n",
        "import pandas as pd\n",
        "from sklearn.model_selection import train_test_split"
      ],
      "execution_count": 5,
      "outputs": []
    },
    {
      "cell_type": "code",
      "metadata": {
        "id": "tz9zmpAuPLzv"
      },
      "source": [
        "datatrain = pd.read_csv('https://raw.githubusercontent.com/Shreya549/no-phishy/master/final2.csv')\n",
        "datatrain = datatrain.apply(pd.to_numeric)\n",
        "datatrain_array = datatrain.values"
      ],
      "execution_count": 3,
      "outputs": []
    },
    {
      "cell_type": "code",
      "metadata": {
        "id": "-U4qXhQgP4Ca"
      },
      "source": [
        "X_train, X_test, y_train, y_test = train_test_split(datatrain_array[:,0:30],datatrain_array[:,30],test_size=0.2)"
      ],
      "execution_count": 4,
      "outputs": []
    },
    {
      "cell_type": "code",
      "metadata": {
        "id": "G_FBdtE9P9fQ"
      },
      "source": [
        "from sklearn.preprocessing import StandardScaler\n",
        "sc = StandardScaler()\n",
        "X_train = sc.fit_transform(X_train)\n",
        "X_test = sc.transform(X_test)"
      ],
      "execution_count": 6,
      "outputs": []
    },
    {
      "cell_type": "code",
      "metadata": {
        "id": "WbWQr-TzQFZT"
      },
      "source": [
        "from sklearn.neural_network import MLPClassifier"
      ],
      "execution_count": 8,
      "outputs": []
    },
    {
      "cell_type": "code",
      "metadata": {
        "id": "GGhY7sioQKMq"
      },
      "source": [
        "mlp = MLPClassifier(hidden_layer_sizes=(16,16),activation='logistic', solver='sgd',learning_rate_init=0.01,max_iter=1800,random_state=7,tol=0.00001)"
      ],
      "execution_count": 9,
      "outputs": []
    },
    {
      "cell_type": "code",
      "metadata": {
        "id": "NFix42oyQPwt",
        "outputId": "a116afcb-97b5-4e5c-a7b4-10b1a88a6ec1",
        "colab": {
          "base_uri": "https://localhost:8080/",
          "height": 156
        }
      },
      "source": [
        "mlp.fit(X_train, y_train)"
      ],
      "execution_count": 10,
      "outputs": [
        {
          "output_type": "execute_result",
          "data": {
            "text/plain": [
              "MLPClassifier(activation='logistic', alpha=0.0001, batch_size='auto',\n",
              "              beta_1=0.9, beta_2=0.999, early_stopping=False, epsilon=1e-08,\n",
              "              hidden_layer_sizes=(16, 16), learning_rate='constant',\n",
              "              learning_rate_init=0.01, max_fun=15000, max_iter=1800,\n",
              "              momentum=0.9, n_iter_no_change=10, nesterovs_momentum=True,\n",
              "              power_t=0.5, random_state=7, shuffle=True, solver='sgd',\n",
              "              tol=1e-05, validation_fraction=0.1, verbose=False,\n",
              "              warm_start=False)"
            ]
          },
          "metadata": {
            "tags": []
          },
          "execution_count": 10
        }
      ]
    },
    {
      "cell_type": "code",
      "metadata": {
        "id": "iXnUW8cNQQ9j",
        "outputId": "4a55f0d0-2359-4108-d8a3-ce25fd84b1c7",
        "colab": {
          "base_uri": "https://localhost:8080/",
          "height": 52
        }
      },
      "source": [
        "print(\"testing model score\")\n",
        "print(mlp.score(X_test,y_test))"
      ],
      "execution_count": 11,
      "outputs": [
        {
          "output_type": "stream",
          "text": [
            "testing model score\n",
            "0.980360176690452\n"
          ],
          "name": "stdout"
        }
      ]
    }
  ]
}