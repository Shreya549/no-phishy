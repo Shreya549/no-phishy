{
  "nbformat": 4,
  "nbformat_minor": 0,
  "metadata": {
    "kernelspec": {
      "display_name": "Python 3",
      "language": "python",
      "name": "python3"
    },
    "language_info": {
      "codemirror_mode": {
        "name": "ipython",
        "version": 3
      },
      "file_extension": ".py",
      "mimetype": "text/x-python",
      "name": "python",
      "nbconvert_exporter": "python",
      "pygments_lexer": "ipython3",
      "version": "3.7.6"
    },
    "colab": {
      "name": "Sequential Classifier.ipynb",
      "provenance": []
    }
  },
  "cells": [
    {
      "cell_type": "code",
      "metadata": {
        "id": "V-hWJ80yxD63",
        "colab_type": "code",
        "colab": {}
      },
      "source": [
        "#importing the libraries\n",
        "import numpy as np\n",
        "import matplotlib.pyplot as plt\n",
        "import pandas as pd"
      ],
      "execution_count": 166,
      "outputs": []
    },
    {
      "cell_type": "code",
      "metadata": {
        "id": "XHgaHreNxD7H",
        "colab_type": "code",
        "colab": {
          "base_uri": "https://localhost:8080/",
          "height": 676
        },
        "outputId": "3e9dc238-07a3-48c9-eeb1-87c0b619f079"
      },
      "source": [
        "url = 'https://raw.githubusercontent.com/Shreya549/no-phishy/master/final2.csv'\n",
        "dataset = pd.read_csv(url)\n",
        "dataset.info()"
      ],
      "execution_count": 173,
      "outputs": [
        {
          "output_type": "stream",
          "text": [
            "<class 'pandas.core.frame.DataFrame'>\n",
            "RangeIndex: 73575 entries, 0 to 73574\n",
            "Data columns (total 31 columns):\n",
            " #   Column          Non-Null Count  Dtype  \n",
            "---  ------          --------------  -----  \n",
            " 0   raw_length      73575 non-null  int64  \n",
            " 1   https           73575 non-null  int64  \n",
            " 2   countSubdomain  73575 non-null  int64  \n",
            " 3   brandName       73575 non-null  int64  \n",
            " 4   countBrand      73575 non-null  int64  \n",
            " 5   countRandom     73575 non-null  int64  \n",
            " 6   smallestWord    73575 non-null  int64  \n",
            " 7   largestWord     73575 non-null  int64  \n",
            " 8   avgWord         73575 non-null  int64  \n",
            " 9   keyword Count   73575 non-null  int64  \n",
            " 10  sd of words     73575 non-null  float64\n",
            " 11  com             73575 non-null  int64  \n",
            " 12  www             73575 non-null  int64  \n",
            " 13  tld             73575 non-null  int64  \n",
            " 14  pathLen         73575 non-null  int64  \n",
            " 15  subdomainLen    73575 non-null  int64  \n",
            " 16  domainLen       73575 non-null  int64  \n",
            " 17  Alexa_top_1m    73575 non-null  int64  \n",
            " 18  domain_gibb     73575 non-null  int64  \n",
            " 19  dash            73575 non-null  int64  \n",
            " 20  dot             73575 non-null  int64  \n",
            " 21  slash           73575 non-null  int64  \n",
            " 22  at              73575 non-null  int64  \n",
            " 23  question        73575 non-null  int64  \n",
            " 24  ampersand       73575 non-null  int64  \n",
            " 25  equal           73575 non-null  int64  \n",
            " 26  underscore      73575 non-null  int64  \n",
            " 27  countDigitSub   73575 non-null  int64  \n",
            " 28  countDigitDom   73575 non-null  int64  \n",
            " 29  countDigitPath  73575 non-null  int64  \n",
            " 30  PhishingResult  73575 non-null  int64  \n",
            "dtypes: float64(1), int64(30)\n",
            "memory usage: 17.4 MB\n"
          ],
          "name": "stdout"
        }
      ]
    },
    {
      "cell_type": "code",
      "metadata": {
        "id": "7BODLsXq05wl",
        "colab_type": "code",
        "colab": {}
      },
      "source": [
        "X = dataset.iloc[:, :30]\n",
        "y = dataset.iloc[:, 30]"
      ],
      "execution_count": 178,
      "outputs": []
    },
    {
      "cell_type": "code",
      "metadata": {
        "id": "05ziyM9mxD7U",
        "colab_type": "code",
        "colab": {}
      },
      "source": [
        "# Splitting the dataset into the Training set and Test set\n",
        "from sklearn.model_selection import train_test_split\n",
        "X_train, X_test, y_train, y_test = train_test_split(X, y, test_size = 0.2, random_state = 0)"
      ],
      "execution_count": 180,
      "outputs": []
    },
    {
      "cell_type": "code",
      "metadata": {
        "id": "6K215dXVxD7h",
        "colab_type": "code",
        "colab": {}
      },
      "source": [
        "# Feature Scaling using normalization\n",
        "from sklearn.preprocessing import StandardScaler\n",
        "sc = StandardScaler()\n",
        "X_train = sc.fit_transform(X_train)\n",
        "X_test = sc.transform(X_test)"
      ],
      "execution_count": 181,
      "outputs": []
    },
    {
      "cell_type": "code",
      "metadata": {
        "id": "gmyTcbDYxD7t",
        "colab_type": "code",
        "colab": {}
      },
      "source": [
        "# Importing the Keras libraries and packages for applying deep learning algorithm\n",
        "import keras\n",
        "from keras.models import Sequential\n",
        "from keras.layers import Dense"
      ],
      "execution_count": 182,
      "outputs": []
    },
    {
      "cell_type": "code",
      "metadata": {
        "id": "biuFWW8txD79",
        "colab_type": "code",
        "colab": {}
      },
      "source": [
        "# Initialising the ANN\n",
        "classifier = Sequential()"
      ],
      "execution_count": 183,
      "outputs": []
    },
    {
      "cell_type": "code",
      "metadata": {
        "id": "DwIxawlz1sHF",
        "colab_type": "code",
        "colab": {}
      },
      "source": [
        "# Adding the input layer and the first hidden layer\n",
        "classifier.add(Dense(units = 16, kernel_initializer = 'uniform', activation = 'relu', input_dim = 30))"
      ],
      "execution_count": 184,
      "outputs": []
    },
    {
      "cell_type": "code",
      "metadata": {
        "id": "cIk234N_1wxc",
        "colab_type": "code",
        "colab": {}
      },
      "source": [
        "# Adding the second hidden layer\n",
        "classifier.add(Dense(units = 16, kernel_initializer = 'uniform', activation = 'relu'))"
      ],
      "execution_count": 185,
      "outputs": []
    },
    {
      "cell_type": "code",
      "metadata": {
        "id": "3tWZCZQa1yTM",
        "colab_type": "code",
        "colab": {}
      },
      "source": [
        "# Adding the output layer\n",
        "classifier.add(Dense(units = 1, kernel_initializer = 'uniform', activation = 'sigmoid'))"
      ],
      "execution_count": 186,
      "outputs": []
    },
    {
      "cell_type": "code",
      "metadata": {
        "id": "Nw46ynec169B",
        "colab_type": "code",
        "colab": {}
      },
      "source": [
        "# Compiling the ANN\n",
        "classifier.compile(optimizer = 'adam', loss = 'binary_crossentropy', metrics = ['accuracy'])"
      ],
      "execution_count": 187,
      "outputs": []
    },
    {
      "cell_type": "code",
      "metadata": {
        "id": "JLkoM-_91_Cw",
        "colab_type": "code",
        "colab": {
          "base_uri": "https://localhost:8080/",
          "height": 1000
        },
        "outputId": "e469080d-428c-4132-bbfb-7f9373080879"
      },
      "source": [
        "# Fitting the ANN to the Training set\n",
        "classifier.fit(X_train, y_train, batch_size = 10, epochs = 100)"
      ],
      "execution_count": 188,
      "outputs": [
        {
          "output_type": "stream",
          "text": [
            "Epoch 1/100\n",
            "5886/5886 [==============================] - 6s 967us/step - loss: 0.1119 - accuracy: 0.9664\n",
            "Epoch 2/100\n",
            "5886/5886 [==============================] - 6s 976us/step - loss: 0.0872 - accuracy: 0.9737\n",
            "Epoch 3/100\n",
            "5886/5886 [==============================] - 6s 979us/step - loss: 0.0820 - accuracy: 0.9748\n",
            "Epoch 4/100\n",
            "5886/5886 [==============================] - 6s 977us/step - loss: 0.0781 - accuracy: 0.9759\n",
            "Epoch 5/100\n",
            "5886/5886 [==============================] - 6s 975us/step - loss: 0.0738 - accuracy: 0.9764\n",
            "Epoch 6/100\n",
            "5886/5886 [==============================] - 6s 981us/step - loss: 0.0713 - accuracy: 0.9768\n",
            "Epoch 7/100\n",
            "5886/5886 [==============================] - 6s 979us/step - loss: 0.0691 - accuracy: 0.9768\n",
            "Epoch 8/100\n",
            "5886/5886 [==============================] - 6s 983us/step - loss: 0.0669 - accuracy: 0.9779\n",
            "Epoch 9/100\n",
            "5886/5886 [==============================] - 6s 999us/step - loss: 0.0660 - accuracy: 0.9781\n",
            "Epoch 10/100\n",
            "5886/5886 [==============================] - 6s 993us/step - loss: 0.0645 - accuracy: 0.9781\n",
            "Epoch 11/100\n",
            "5886/5886 [==============================] - 6s 1ms/step - loss: 0.0635 - accuracy: 0.9785\n",
            "Epoch 12/100\n",
            "5886/5886 [==============================] - 6s 1ms/step - loss: 0.0625 - accuracy: 0.9786\n",
            "Epoch 13/100\n",
            "5886/5886 [==============================] - 7s 1ms/step - loss: 0.0623 - accuracy: 0.9791\n",
            "Epoch 14/100\n",
            "5886/5886 [==============================] - 6s 1ms/step - loss: 0.0613 - accuracy: 0.9792\n",
            "Epoch 15/100\n",
            "5886/5886 [==============================] - 6s 980us/step - loss: 0.0607 - accuracy: 0.9795\n",
            "Epoch 16/100\n",
            "5886/5886 [==============================] - 6s 977us/step - loss: 0.0602 - accuracy: 0.9799\n",
            "Epoch 17/100\n",
            "5886/5886 [==============================] - 6s 972us/step - loss: 0.0602 - accuracy: 0.9799\n",
            "Epoch 18/100\n",
            "5886/5886 [==============================] - 6s 985us/step - loss: 0.0590 - accuracy: 0.9803\n",
            "Epoch 19/100\n",
            "5886/5886 [==============================] - 6s 985us/step - loss: 0.0589 - accuracy: 0.9802\n",
            "Epoch 20/100\n",
            "5886/5886 [==============================] - 6s 1ms/step - loss: 0.0578 - accuracy: 0.9808\n",
            "Epoch 21/100\n",
            "5886/5886 [==============================] - 6s 975us/step - loss: 0.0579 - accuracy: 0.9806\n",
            "Epoch 22/100\n",
            "5886/5886 [==============================] - 6s 984us/step - loss: 0.0570 - accuracy: 0.9809\n",
            "Epoch 23/100\n",
            "5886/5886 [==============================] - 6s 983us/step - loss: 0.0566 - accuracy: 0.9809\n",
            "Epoch 24/100\n",
            "5886/5886 [==============================] - 6s 983us/step - loss: 0.0563 - accuracy: 0.9814\n",
            "Epoch 25/100\n",
            "5886/5886 [==============================] - 6s 973us/step - loss: 0.0562 - accuracy: 0.9813\n",
            "Epoch 26/100\n",
            "5886/5886 [==============================] - 6s 984us/step - loss: 0.0559 - accuracy: 0.9814\n",
            "Epoch 27/100\n",
            "5886/5886 [==============================] - 6s 991us/step - loss: 0.0559 - accuracy: 0.9813\n",
            "Epoch 28/100\n",
            "5886/5886 [==============================] - 6s 976us/step - loss: 0.0555 - accuracy: 0.9818\n",
            "Epoch 29/100\n",
            "5886/5886 [==============================] - 6s 989us/step - loss: 0.0551 - accuracy: 0.9817\n",
            "Epoch 30/100\n",
            "5886/5886 [==============================] - 6s 984us/step - loss: 0.0551 - accuracy: 0.9818\n",
            "Epoch 31/100\n",
            "5886/5886 [==============================] - 6s 983us/step - loss: 0.0547 - accuracy: 0.9816\n",
            "Epoch 32/100\n",
            "5886/5886 [==============================] - 6s 986us/step - loss: 0.0547 - accuracy: 0.9820\n",
            "Epoch 33/100\n",
            "5886/5886 [==============================] - 6s 983us/step - loss: 0.0544 - accuracy: 0.9823\n",
            "Epoch 34/100\n",
            "5886/5886 [==============================] - 6s 975us/step - loss: 0.0540 - accuracy: 0.9818\n",
            "Epoch 35/100\n",
            "5886/5886 [==============================] - 6s 979us/step - loss: 0.0538 - accuracy: 0.9823\n",
            "Epoch 36/100\n",
            "5886/5886 [==============================] - 6s 992us/step - loss: 0.0540 - accuracy: 0.9822\n",
            "Epoch 37/100\n",
            "5886/5886 [==============================] - 6s 980us/step - loss: 0.0536 - accuracy: 0.9827\n",
            "Epoch 38/100\n",
            "5886/5886 [==============================] - 6s 980us/step - loss: 0.0534 - accuracy: 0.9822\n",
            "Epoch 39/100\n",
            "5886/5886 [==============================] - 6s 989us/step - loss: 0.0534 - accuracy: 0.9827\n",
            "Epoch 40/100\n",
            "5886/5886 [==============================] - 6s 975us/step - loss: 0.0530 - accuracy: 0.9828\n",
            "Epoch 41/100\n",
            "5886/5886 [==============================] - 6s 977us/step - loss: 0.0530 - accuracy: 0.9831\n",
            "Epoch 42/100\n",
            "5886/5886 [==============================] - 6s 980us/step - loss: 0.0527 - accuracy: 0.9829\n",
            "Epoch 43/100\n",
            "5886/5886 [==============================] - 6s 971us/step - loss: 0.0525 - accuracy: 0.9830\n",
            "Epoch 44/100\n",
            "5886/5886 [==============================] - 6s 1ms/step - loss: 0.0525 - accuracy: 0.9826\n",
            "Epoch 45/100\n",
            "5886/5886 [==============================] - 6s 1ms/step - loss: 0.0523 - accuracy: 0.9832\n",
            "Epoch 46/100\n",
            "5886/5886 [==============================] - 6s 980us/step - loss: 0.0522 - accuracy: 0.9826\n",
            "Epoch 47/100\n",
            "5886/5886 [==============================] - 6s 990us/step - loss: 0.0520 - accuracy: 0.9831\n",
            "Epoch 48/100\n",
            "5886/5886 [==============================] - 6s 980us/step - loss: 0.0521 - accuracy: 0.9828\n",
            "Epoch 49/100\n",
            "5886/5886 [==============================] - 6s 989us/step - loss: 0.0515 - accuracy: 0.9832\n",
            "Epoch 50/100\n",
            "5886/5886 [==============================] - 6s 971us/step - loss: 0.0516 - accuracy: 0.9832\n",
            "Epoch 51/100\n",
            "5886/5886 [==============================] - 6s 975us/step - loss: 0.0516 - accuracy: 0.9830\n",
            "Epoch 52/100\n",
            "5886/5886 [==============================] - 6s 980us/step - loss: 0.0513 - accuracy: 0.9834\n",
            "Epoch 53/100\n",
            "5886/5886 [==============================] - 6s 972us/step - loss: 0.0512 - accuracy: 0.9833\n",
            "Epoch 54/100\n",
            "5886/5886 [==============================] - 6s 975us/step - loss: 0.0512 - accuracy: 0.9833\n",
            "Epoch 55/100\n",
            "5886/5886 [==============================] - 6s 966us/step - loss: 0.0514 - accuracy: 0.9832\n",
            "Epoch 56/100\n",
            "5886/5886 [==============================] - 6s 982us/step - loss: 0.0506 - accuracy: 0.9834\n",
            "Epoch 57/100\n",
            "5886/5886 [==============================] - 6s 983us/step - loss: 0.0507 - accuracy: 0.9836\n",
            "Epoch 58/100\n",
            "5886/5886 [==============================] - 6s 974us/step - loss: 0.0506 - accuracy: 0.9838\n",
            "Epoch 59/100\n",
            "5886/5886 [==============================] - 6s 980us/step - loss: 0.0507 - accuracy: 0.9834\n",
            "Epoch 60/100\n",
            "5886/5886 [==============================] - 6s 971us/step - loss: 0.0502 - accuracy: 0.9836\n",
            "Epoch 61/100\n",
            "5886/5886 [==============================] - 6s 966us/step - loss: 0.0506 - accuracy: 0.9834\n",
            "Epoch 62/100\n",
            "5886/5886 [==============================] - 6s 982us/step - loss: 0.0500 - accuracy: 0.9837\n",
            "Epoch 63/100\n",
            "5886/5886 [==============================] - 6s 975us/step - loss: 0.0501 - accuracy: 0.9839\n",
            "Epoch 64/100\n",
            "5886/5886 [==============================] - 6s 971us/step - loss: 0.0499 - accuracy: 0.9836\n",
            "Epoch 65/100\n",
            "5886/5886 [==============================] - 6s 977us/step - loss: 0.0497 - accuracy: 0.9840\n",
            "Epoch 66/100\n",
            "5886/5886 [==============================] - 6s 1ms/step - loss: 0.0496 - accuracy: 0.9838\n",
            "Epoch 67/100\n",
            "5886/5886 [==============================] - 6s 1ms/step - loss: 0.0494 - accuracy: 0.9836\n",
            "Epoch 68/100\n",
            "5886/5886 [==============================] - 6s 1000us/step - loss: 0.0498 - accuracy: 0.9835\n",
            "Epoch 69/100\n",
            "5886/5886 [==============================] - 6s 979us/step - loss: 0.0495 - accuracy: 0.9840\n",
            "Epoch 70/100\n",
            "5886/5886 [==============================] - 6s 969us/step - loss: 0.0493 - accuracy: 0.9838\n",
            "Epoch 71/100\n",
            "5886/5886 [==============================] - 6s 967us/step - loss: 0.0495 - accuracy: 0.9836\n",
            "Epoch 72/100\n",
            "5886/5886 [==============================] - 6s 967us/step - loss: 0.0492 - accuracy: 0.9836\n",
            "Epoch 73/100\n",
            "5886/5886 [==============================] - 6s 965us/step - loss: 0.0494 - accuracy: 0.9839\n",
            "Epoch 74/100\n",
            "5886/5886 [==============================] - 6s 961us/step - loss: 0.0491 - accuracy: 0.9842\n",
            "Epoch 75/100\n",
            "5886/5886 [==============================] - 6s 965us/step - loss: 0.0490 - accuracy: 0.9840\n",
            "Epoch 76/100\n",
            "5886/5886 [==============================] - 6s 961us/step - loss: 0.0490 - accuracy: 0.9838\n",
            "Epoch 77/100\n",
            "5886/5886 [==============================] - 6s 963us/step - loss: 0.0488 - accuracy: 0.9842\n",
            "Epoch 78/100\n",
            "5886/5886 [==============================] - 6s 974us/step - loss: 0.0490 - accuracy: 0.9840\n",
            "Epoch 79/100\n",
            "5886/5886 [==============================] - 6s 993us/step - loss: 0.0486 - accuracy: 0.9842\n",
            "Epoch 80/100\n",
            "5886/5886 [==============================] - 6s 977us/step - loss: 0.0489 - accuracy: 0.9841\n",
            "Epoch 81/100\n",
            "5886/5886 [==============================] - 6s 961us/step - loss: 0.0483 - accuracy: 0.9843\n",
            "Epoch 82/100\n",
            "5886/5886 [==============================] - 6s 967us/step - loss: 0.0489 - accuracy: 0.9839\n",
            "Epoch 83/100\n",
            "5886/5886 [==============================] - 6s 957us/step - loss: 0.0483 - accuracy: 0.9843\n",
            "Epoch 84/100\n",
            "5886/5886 [==============================] - 6s 962us/step - loss: 0.0485 - accuracy: 0.9839\n",
            "Epoch 85/100\n",
            "5886/5886 [==============================] - 6s 966us/step - loss: 0.0482 - accuracy: 0.9841\n",
            "Epoch 86/100\n",
            "5886/5886 [==============================] - 6s 969us/step - loss: 0.0482 - accuracy: 0.9842\n",
            "Epoch 87/100\n",
            "5886/5886 [==============================] - 6s 961us/step - loss: 0.0482 - accuracy: 0.9844\n",
            "Epoch 88/100\n",
            "5886/5886 [==============================] - 6s 957us/step - loss: 0.0484 - accuracy: 0.9843\n",
            "Epoch 89/100\n",
            "5886/5886 [==============================] - 6s 956us/step - loss: 0.0477 - accuracy: 0.9845\n",
            "Epoch 90/100\n",
            "5886/5886 [==============================] - 6s 959us/step - loss: 0.0480 - accuracy: 0.9845\n",
            "Epoch 91/100\n",
            "5886/5886 [==============================] - 7s 1ms/step - loss: 0.0480 - accuracy: 0.9846\n",
            "Epoch 92/100\n",
            "5886/5886 [==============================] - 6s 991us/step - loss: 0.0480 - accuracy: 0.9844\n",
            "Epoch 93/100\n",
            "5886/5886 [==============================] - 6s 996us/step - loss: 0.0483 - accuracy: 0.9842\n",
            "Epoch 94/100\n",
            "5886/5886 [==============================] - 6s 989us/step - loss: 0.0478 - accuracy: 0.9846\n",
            "Epoch 95/100\n",
            "5886/5886 [==============================] - 6s 967us/step - loss: 0.0482 - accuracy: 0.9844\n",
            "Epoch 96/100\n",
            "5886/5886 [==============================] - 6s 995us/step - loss: 0.0479 - accuracy: 0.9845\n",
            "Epoch 97/100\n",
            "5886/5886 [==============================] - 6s 1ms/step - loss: 0.0480 - accuracy: 0.9845\n",
            "Epoch 98/100\n",
            "5886/5886 [==============================] - 6s 1ms/step - loss: 0.0475 - accuracy: 0.9845\n",
            "Epoch 99/100\n",
            "5886/5886 [==============================] - 6s 1000us/step - loss: 0.0475 - accuracy: 0.9849\n",
            "Epoch 100/100\n",
            "5886/5886 [==============================] - 6s 984us/step - loss: 0.0479 - accuracy: 0.9844\n"
          ],
          "name": "stdout"
        },
        {
          "output_type": "execute_result",
          "data": {
            "text/plain": [
              "<tensorflow.python.keras.callbacks.History at 0x7f9f4176ec50>"
            ]
          },
          "metadata": {
            "tags": []
          },
          "execution_count": 188
        }
      ]
    },
    {
      "cell_type": "code",
      "metadata": {
        "id": "y-LU5NpoAsc4",
        "colab_type": "code",
        "colab": {}
      },
      "source": [
        "# Predicting the Test set results\n",
        "y_pred = classifier.predict(X_test)\n",
        "y_pred = (y_pred > 0.5)"
      ],
      "execution_count": 189,
      "outputs": []
    },
    {
      "cell_type": "code",
      "metadata": {
        "id": "978OpximBAUX",
        "colab_type": "code",
        "colab": {
          "base_uri": "https://localhost:8080/",
          "height": 52
        },
        "outputId": "f5db7844-a7cb-461f-a232-333a8c7f1498"
      },
      "source": [
        "# Making the Confusion Matrix for test data\n",
        "from sklearn.metrics import confusion_matrix\n",
        "cm = confusion_matrix(y_test, y_pred)\n",
        "cm"
      ],
      "execution_count": 191,
      "outputs": [
        {
          "output_type": "execute_result",
          "data": {
            "text/plain": [
              "array([[6950,  190],\n",
              "       [ 104, 7471]])"
            ]
          },
          "metadata": {
            "tags": []
          },
          "execution_count": 191
        }
      ]
    }
  ]
}